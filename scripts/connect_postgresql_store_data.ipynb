{
  "nbformat": 4,
  "nbformat_minor": 0,
  "metadata": {
    "colab": {
      "provenance": []
    },
    "kernelspec": {
      "name": "python3",
      "display_name": "Python 3"
    },
    "language_info": {
      "name": "python"
    }
  },
  "cells": [
    {
      "cell_type": "code",
      "execution_count": 19,
      "metadata": {
        "colab": {
          "base_uri": "https://localhost:8080/"
        },
        "id": "RJtvBqUdXooT",
        "outputId": "37069a8f-2938-46a7-f8d4-c87e22fe3d79"
      },
      "outputs": [
        {
          "output_type": "stream",
          "name": "stdout",
          "text": [
            "Requirement already satisfied: pyodbc in /usr/local/lib/python3.10/dist-packages (5.1.0)\n",
            "Requirement already satisfied: psycopg2 in /usr/local/lib/python3.10/dist-packages (2.9.9)\n",
            "Requirement already satisfied: pandas in /usr/local/lib/python3.10/dist-packages (2.0.3)\n",
            "Requirement already satisfied: python-dateutil>=2.8.2 in /usr/local/lib/python3.10/dist-packages (from pandas) (2.8.2)\n",
            "Requirement already satisfied: pytz>=2020.1 in /usr/local/lib/python3.10/dist-packages (from pandas) (2023.4)\n",
            "Requirement already satisfied: tzdata>=2022.1 in /usr/local/lib/python3.10/dist-packages (from pandas) (2024.1)\n",
            "Requirement already satisfied: numpy>=1.21.0 in /usr/local/lib/python3.10/dist-packages (from pandas) (1.25.2)\n",
            "Requirement already satisfied: six>=1.5 in /usr/local/lib/python3.10/dist-packages (from python-dateutil>=2.8.2->pandas) (1.16.0)\n",
            "Collecting azure-storage-blob\n",
            "  Downloading azure_storage_blob-12.20.0-py3-none-any.whl (392 kB)\n",
            "\u001b[2K     \u001b[90m━━━━━━━━━━━━━━━━━━━━━━━━━━━━━━━━━━━━━━━━\u001b[0m \u001b[32m392.2/392.2 kB\u001b[0m \u001b[31m6.0 MB/s\u001b[0m eta \u001b[36m0:00:00\u001b[0m\n",
            "\u001b[?25hCollecting azure-core>=1.28.0 (from azure-storage-blob)\n",
            "  Downloading azure_core-1.30.1-py3-none-any.whl (193 kB)\n",
            "\u001b[2K     \u001b[90m━━━━━━━━━━━━━━━━━━━━━━━━━━━━━━━━━━━━━━━━\u001b[0m \u001b[32m193.4/193.4 kB\u001b[0m \u001b[31m6.9 MB/s\u001b[0m eta \u001b[36m0:00:00\u001b[0m\n",
            "\u001b[?25hRequirement already satisfied: cryptography>=2.1.4 in /usr/local/lib/python3.10/dist-packages (from azure-storage-blob) (42.0.7)\n",
            "Requirement already satisfied: typing-extensions>=4.6.0 in /usr/local/lib/python3.10/dist-packages (from azure-storage-blob) (4.11.0)\n",
            "Collecting isodate>=0.6.1 (from azure-storage-blob)\n",
            "  Downloading isodate-0.6.1-py2.py3-none-any.whl (41 kB)\n",
            "\u001b[2K     \u001b[90m━━━━━━━━━━━━━━━━━━━━━━━━━━━━━━━━━━━━━━━━\u001b[0m \u001b[32m41.7/41.7 kB\u001b[0m \u001b[31m5.1 MB/s\u001b[0m eta \u001b[36m0:00:00\u001b[0m\n",
            "\u001b[?25hRequirement already satisfied: requests>=2.21.0 in /usr/local/lib/python3.10/dist-packages (from azure-core>=1.28.0->azure-storage-blob) (2.31.0)\n",
            "Requirement already satisfied: six>=1.11.0 in /usr/local/lib/python3.10/dist-packages (from azure-core>=1.28.0->azure-storage-blob) (1.16.0)\n",
            "Requirement already satisfied: cffi>=1.12 in /usr/local/lib/python3.10/dist-packages (from cryptography>=2.1.4->azure-storage-blob) (1.16.0)\n",
            "Requirement already satisfied: pycparser in /usr/local/lib/python3.10/dist-packages (from cffi>=1.12->cryptography>=2.1.4->azure-storage-blob) (2.22)\n",
            "Requirement already satisfied: charset-normalizer<4,>=2 in /usr/local/lib/python3.10/dist-packages (from requests>=2.21.0->azure-core>=1.28.0->azure-storage-blob) (3.3.2)\n",
            "Requirement already satisfied: idna<4,>=2.5 in /usr/local/lib/python3.10/dist-packages (from requests>=2.21.0->azure-core>=1.28.0->azure-storage-blob) (3.7)\n",
            "Requirement already satisfied: urllib3<3,>=1.21.1 in /usr/local/lib/python3.10/dist-packages (from requests>=2.21.0->azure-core>=1.28.0->azure-storage-blob) (2.0.7)\n",
            "Requirement already satisfied: certifi>=2017.4.17 in /usr/local/lib/python3.10/dist-packages (from requests>=2.21.0->azure-core>=1.28.0->azure-storage-blob) (2024.2.2)\n",
            "Installing collected packages: isodate, azure-core, azure-storage-blob\n",
            "Successfully installed azure-core-1.30.1 azure-storage-blob-12.20.0 isodate-0.6.1\n"
          ]
        }
      ],
      "source": [
        "!pip install pyodbc psycopg2 pandas\n",
        "!pip install azure-storage-blob"
      ]
    },
    {
      "cell_type": "code",
      "source": [
        "from azure.storage.blob import BlobServiceClient\n",
        "import pandas as pd\n",
        "import psycopg2\n",
        "from io import StringIO\n",
        "\n",
        "# Azure Blob Storage connection string\n",
        "azure_connection_string = 'DefaultEndpointsProtocol=https;AccountName=stcommoditygoodcis9440;AccountKey=1ID+03Daliv3RUjzPBEKtBwlppqWuXQVpSToGGDISGeh6yKHD38yISqk8H6TSyGHXdQWDUalCmjt+ASt9p306g==;EndpointSuffix=core.windows.net'\n",
        "\n",
        "# PostgreSQL connection parameters\n",
        "pg_host = 'chenchunran.postgres.database.azure.com'\n",
        "pg_database = 'postgres'\n",
        "pg_user = 'chenchunran'\n",
        "pg_password = 'Luck7788'\n",
        "pg_port = '5432'\n",
        "\n",
        "# Connect to Azure Blob Storage\n",
        "blob_service_client = BlobServiceClient.from_connection_string(azure_connection_string)\n",
        "container_name = 'commoditygoods'\n",
        "blob_name = 'commoditygoods_20240512.csv'\n",
        "\n",
        "# Download the blob as a string\n",
        "blob_client = blob_service_client.get_blob_client(container_name, blob_name)\n",
        "blob_data = blob_client.download_blob().readall().decode('utf-8')\n",
        "print(\"CSV file downloaded successfully.\")\n",
        "\n",
        "# Load the CSV data into a DataFrame\n",
        "df = pd.read_csv(StringIO(blob_data))\n",
        "\n",
        "# Connect to PostgreSQL\n",
        "pg_conn = psycopg2.connect(\n",
        "    host=pg_host,\n",
        "    database=pg_database,\n",
        "    user=pg_user,\n",
        "    password=pg_password,\n",
        "    port=pg_port\n",
        ")\n",
        "pg_cursor = pg_conn.cursor()\n",
        "\n",
        "# Define a function to create the table in PostgreSQL\n",
        "def create_pg_table(table_name, dataframe):\n",
        "    # Dynamically create table based on DataFrame columns and dtypes\n",
        "    columns_with_types = ', '.join([f'{col} TEXT' for col in dataframe.columns])\n",
        "    create_table_query = f\"\"\"\n",
        "    CREATE TABLE IF NOT EXISTS {table_name} (\n",
        "        {columns_with_types}\n",
        "    );\n",
        "    \"\"\"\n",
        "    pg_cursor.execute(create_table_query)\n",
        "    pg_conn.commit()\n",
        "    print(f\"Table '{table_name}' created successfully.\")\n",
        "\n",
        "# Define a function to insert data into the PostgreSQL table\n",
        "def insert_data_to_pg(table_name, dataframe):\n",
        "    insert_query = f\"\"\"\n",
        "    INSERT INTO {table_name} ({', '.join(dataframe.columns)})\n",
        "    VALUES %s\n",
        "    \"\"\"\n",
        "    data = [tuple(row) for row in dataframe.to_numpy()]\n",
        "    from psycopg2.extras import execute_values\n",
        "    execute_values(pg_cursor, insert_query, data)\n",
        "    pg_conn.commit()\n",
        "    print(f\"Data inserted into '{table_name}' successfully.\")\n",
        "\n",
        "# Define the PostgreSQL table name\n",
        "pg_table_name = 'commodity_goods'\n",
        "\n",
        "# Create the PostgreSQL table\n",
        "create_pg_table(pg_table_name, df)\n",
        "\n",
        "# Insert the data into the PostgreSQL table\n",
        "insert_data_to_pg(pg_table_name, df)\n",
        "\n",
        "# Close PostgreSQL connection\n",
        "pg_cursor.close()\n",
        "pg_conn.close()\n",
        "print(\"PostgreSQL connection closed.\")\n"
      ],
      "metadata": {
        "colab": {
          "base_uri": "https://localhost:8080/"
        },
        "id": "LUamah6DfUvY",
        "outputId": "5ffda63f-e2c9-4cd5-8b44-21dc8eae64b2"
      },
      "execution_count": 20,
      "outputs": [
        {
          "output_type": "stream",
          "name": "stdout",
          "text": [
            "CSV file downloaded successfully.\n",
            "Table 'commodity_goods' created successfully.\n",
            "Data inserted into 'commodity_goods' successfully.\n",
            "PostgreSQL connection closed.\n"
          ]
        }
      ]
    }
  ]
}